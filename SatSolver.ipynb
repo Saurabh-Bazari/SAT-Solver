{
  "cells": [
    {
      "cell_type": "code",
      "metadata": {
        "id": "_t6GuN8IMpBJ",
        "colab_type": "code",
        "colab": {}
      },
      "source": [
        "import re\n",
        "import sys\n",
        "import time"
      ],
      "execution_count": 0,
      "outputs": []
    },
    {
      "cell_type": "markdown",
      "metadata": {
        "id": "LXWO6bsZMqLo",
        "colab_type": "text"
      },
      "source": [
        "\n",
        "```\n",
        "There are some global variable whiach are used in entire code\n",
        "* LitCalMatrix stores the index of clauses, for all literals there is a array \n",
        "store index of clause\n",
        "* literalCount stores the Number of literals\n",
        "* unknown is a Global value... for unassign literals\n",
        "* litValues stores the current assign value of literal, 0 = False, 1 = True, -1 = Uknown or unassign\n",
        "* formula is a cnf or list of clauses and each clause is list of literals\n",
        "* level is number of manually assign literals\n",
        "* levelAllLits maintain level wize literals assignment\n",
        "* adjMatrix is the adjecent list of graph used in conflict analysis\n",
        "* DecisionCount, ImplicationCount are global Int\n",
        "\n",
        "```\n",
        "\n"
      ]
    },
    {
      "cell_type": "code",
      "metadata": {
        "id": "9GokNkR3MrRt",
        "colab_type": "code",
        "colab": {}
      },
      "source": [
        "LitCalMatrix = {}\n",
        "literalCount = 0\n",
        "unknown = -1\n",
        "litValues = []\n",
        "formula = []\n",
        "level = 0\n",
        "levelAllLits = {}\n",
        "adjMatrix = []\n",
        "DecisionCount = 0\n",
        "ImplicationCount = 0"
      ],
      "execution_count": 0,
      "outputs": []
    },
    {
      "cell_type": "markdown",
      "metadata": {
        "id": "ntvgcW_vUEzX",
        "colab_type": "text"
      },
      "source": [
        "Given a index of formula, output the value of clause true, false or unknown\n",
        "  - if any literal is satisfiable then clause is true\n",
        "  - if no one literal is satisfiable then any literal is unknown then unknown \n",
        "  - if all literal are false then clause is false\n",
        "\n"
      ]
    },
    {
      "cell_type": "code",
      "metadata": {
        "id": "rNeCl1vATLiS",
        "colab_type": "code",
        "colab": {}
      },
      "source": [
        "def ClauseValue(index):\n",
        "    answer = 0\n",
        "    for lit in formula[index]:\n",
        "        if (lit > 0 and litValues[abs(lit)]==1) or (lit < 0 and litValues[abs(lit)]==0):\n",
        "            return 1\n",
        "        elif litValues[abs(lit)]==unknown:\n",
        "            answer = unknown\n",
        "    return answer"
      ],
      "execution_count": 0,
      "outputs": []
    },
    {
      "cell_type": "markdown",
      "metadata": {
        "id": "s2NCiB8YVSLN",
        "colab_type": "text"
      },
      "source": [
        "Given a unknown valued clause, find out the number of unknown literals.\n",
        "It output the number of unknown literal and return atleast one literal."
      ]
    },
    {
      "cell_type": "code",
      "metadata": {
        "id": "DB-YMX7BTMs2",
        "colab_type": "code",
        "colab": {}
      },
      "source": [
        "def NumOfUnknownLit(clause):\n",
        "    count = 0\n",
        "    resLit = 0\n",
        "    for lit in clause:\n",
        "        currValue = litValues[abs(lit)]\n",
        "        if currValue == unknown:\n",
        "            count = count + 1\n",
        "            resLit = lit\n",
        "    return count,resLit"
      ],
      "execution_count": 0,
      "outputs": []
    },
    {
      "cell_type": "markdown",
      "metadata": {
        "id": "p0vrRNZYV8cA",
        "colab_type": "text"
      },
      "source": [
        "Whenever any new Literal is assign through unit propogation, we have to add new node in graph or update adjacency list of graph.\n",
        "* assign value to literal\n",
        "* update value, level, clause Index in graph"
      ]
    },
    {
      "cell_type": "code",
      "metadata": {
        "id": "-Xz4fruXTRBO",
        "colab_type": "code",
        "colab": {}
      },
      "source": [
        "def UpdateDataStr(literal,index):\n",
        "    pstLit = abs(literal)\n",
        "    if literal>0:\n",
        "        litValues[pstLit] = 1\n",
        "    else:\n",
        "        litValues[pstLit] = 0\n",
        "\n",
        "    adjMatrix[pstLit][\"value\"] = litValues[pstLit]\n",
        "    adjMatrix[pstLit][\"level\"] = level\n",
        "    adjMatrix[pstLit][\"clause\"] = index"
      ],
      "execution_count": 0,
      "outputs": []
    },
    {
      "cell_type": "markdown",
      "metadata": {
        "id": "MNtUIuQHXBw3",
        "colab_type": "text"
      },
      "source": [
        "In BCP function... basically we filter the clause in which all literal are false except one unknown, that literal shouls be true.\n",
        "\n",
        "* Given all possible set of clause Index whcih are unit clause\n",
        "* Iterate all given clause and check number of unknown literal in unknown valued clause\n",
        "* If number of unknown literal is one then stre them with clause index\n",
        "** if we not get any literal the stop it\n",
        "**  else may be we get more unit literal through these literals\n",
        "* for each unit literal we add node in graph and its value\n",
        "* we get more unit literal only me that clause which have negative of them"
      ]
    },
    {
      "cell_type": "code",
      "metadata": {
        "id": "XWUqoNtBTS41",
        "colab_type": "code",
        "colab": {}
      },
      "source": [
        "def BCP(possibleCalIdx):\n",
        "    global ImplicationCount\n",
        "    unitLitsPair = set()\n",
        "    unitLits = set()\n",
        "    for i in possibleCalIdx:\n",
        "        calVal = ClauseValue(i)\n",
        "        if(calVal==unknown):\n",
        "            cnt,lit = NumOfUnknownLit(formula[i])\n",
        "            if cnt==1:\n",
        "                ImplicationCount = ImplicationCount +1\n",
        "                unitLitsPair.add((lit,i))\n",
        "                unitLits.add(lit)\n",
        "        elif calVal==0:\n",
        "            return i\n",
        "\n",
        "    if len(unitLitsPair)==0:\n",
        "        return -1\n",
        "    else:\n",
        "        for lit,idx in unitLitsPair:\n",
        "            if level==0:\n",
        "                litValues[abs(lit)] = 1 if lit>0 else 0\n",
        "                adjMatrix[abs(lit)][\"value\"] = litValues[abs(lit)]\n",
        "                adjMatrix[abs(lit)][\"level\"] = level\n",
        "                adjMatrix[abs(lit)][\"clause\"] = idx\n",
        "            else:\n",
        "                levelAllLits[level].append(lit)\n",
        "                UpdateDataStr(lit,idx)\n",
        "        \n",
        "        newPossibleCalIdx =set()\n",
        "\n",
        "        for lit in unitLits:\n",
        "            if -1*lit in LitCalMatrix.keys():\n",
        "                for idx in LitCalMatrix[-1*lit]:\n",
        "                    newPossibleCalIdx.add(idx)\n",
        "        return BCP(newPossibleCalIdx)"
      ],
      "execution_count": 0,
      "outputs": []
    },
    {
      "cell_type": "markdown",
      "metadata": {
        "id": "tDOVcU6QnRdk",
        "colab_type": "text"
      },
      "source": [
        "Decide function decide which next unknown literal be true\n",
        "We iterate at all uknown literals and return **max occuring literal in formula**"
      ]
    },
    {
      "cell_type": "code",
      "metadata": {
        "id": "evWVQR0wTUYV",
        "colab_type": "code",
        "colab": {}
      },
      "source": [
        "def decide():\n",
        "    global DecisionCount\n",
        "    DecisionCount = DecisionCount+1\n",
        "    ansLit = 0\n",
        "    count =0\n",
        "    for lit in LitCalMatrix.keys():\n",
        "        if litValues[abs(lit)]==unknown:\n",
        "            if len(LitCalMatrix[lit]) > count:\n",
        "                count =len(LitCalMatrix[lit]) \n",
        "                ansLit = lit\n",
        "    return ansLit"
      ],
      "execution_count": 0,
      "outputs": []
    },
    {
      "cell_type": "markdown",
      "metadata": {
        "id": "c1bapWzxnuZS",
        "colab_type": "text"
      },
      "source": [
        "Branching function create a new branch, take one new decision\n",
        "* increment level by one\n",
        "* choose literal by decide function\n",
        "* update data structue like add new node in graph and litValues"
      ]
    },
    {
      "cell_type": "code",
      "metadata": {
        "id": "-avrI6WcTV_p",
        "colab_type": "code",
        "colab": {}
      },
      "source": [
        "def Branching():\n",
        "    global level\n",
        "    level = level+1\n",
        "    lit = decide()\n",
        "    litValues[abs(lit)]= 1 if lit > 0 else 0\n",
        "    levelAllLits[level] = []\n",
        "    levelAllLits[level].append(lit)\n",
        "    adjMatrix[abs(lit)][\"level\"] = level\n",
        "    adjMatrix[abs(lit)][\"value\"] = litValues[lit]\n",
        "    adjMatrix[abs(lit)][\"clause\"] = None\n",
        "    "
      ],
      "execution_count": 0,
      "outputs": []
    },
    {
      "cell_type": "markdown",
      "metadata": {
        "id": "BvIpEugAoY1U",
        "colab_type": "text"
      },
      "source": [
        "During Conflict we have to jump to new level which is less than current level\n",
        "* All literals level wise stored in levelAllLits dict\n",
        "* for each level between new level and current level\n",
        "** set literal value as unknown\n",
        "** remove node form graph\n",
        "** clear levelAllLits dict\n"
      ]
    },
    {
      "cell_type": "code",
      "metadata": {
        "id": "73XzEmC9TYU-",
        "colab_type": "code",
        "colab": {}
      },
      "source": [
        "def UpdateDataStrWithNewLevel(newLevel):\n",
        "\n",
        "    for lvl in range(newLevel+1,level+1):\n",
        "        for lit in levelAllLits[lvl]:\n",
        "            litValues[abs(lit)]=unknown\n",
        "            adjMatrix[abs(lit)]={}\n",
        "\n",
        "    for lvl in range(newLevel+1,level+1):\n",
        "        levelAllLits[lvl] = []        \n"
      ],
      "execution_count": 0,
      "outputs": []
    },
    {
      "cell_type": "markdown",
      "metadata": {
        "id": "t1VeYDp3u0tq",
        "colab_type": "text"
      },
      "source": [
        "To resolve conflict in givel index at current level\n",
        "* iterate form leaf node to root node of current level\n",
        "** for each node differenciate current level literals and perv level literals\n",
        "** if current level lit is one then break\n",
        "** else for each lit in clause of leaf node\n",
        "** all not done literals used in next iteration\n",
        "\n",
        "At end we get a new clause by adding all pervious Lits an current lits\n",
        "* new level is the maximum of all pervious lits level\n",
        "* return the new level and new clause"
      ]
    },
    {
      "cell_type": "code",
      "metadata": {
        "id": "iWXzflxtTa1V",
        "colab_type": "code",
        "colab": {}
      },
      "source": [
        "def ConflictAnalyze(clauseIdx):\n",
        "\n",
        "    clause = formula[clauseIdx]\n",
        "    poolLiterals = clause\n",
        "    currentLevelLits=set()\n",
        "    prevLevelLits=set()\n",
        "    allAncestorLits=set()\n",
        "\n",
        "    while True:\n",
        "        for lit in poolLiterals:\n",
        "            if adjMatrix[abs(lit)]['level']==level:\n",
        "                currentLevelLits.add(lit)\n",
        "            else:\n",
        "                prevLevelLits.add(lit)\n",
        "\n",
        "        if len(currentLevelLits)==1:\n",
        "            break\n",
        "\n",
        "        for lit in reversed(levelAllLits[level]):\n",
        "            if lit in currentLevelLits:\n",
        "                leafLit = lit\n",
        "                currentLevelLits.remove(lit)\n",
        "                break\n",
        "\n",
        "            if -1*lit in currentLevelLits:\n",
        "                leafLit = -1*lit\n",
        "                currentLevelLits.remove(-1*lit)\n",
        "                break\n",
        "\n",
        "        allAncestorLits.add(abs(leafLit))\n",
        "        calIdx = adjMatrix[abs(leafLit)][\"clause\"]\n",
        "        pervCal = formula[calIdx]\n",
        "\n",
        "        poolLiterals=[]\n",
        "        if pervCal is not None:\n",
        "            for l in pervCal :\n",
        "                if abs(l) not in allAncestorLits:\n",
        "                    poolLiterals.append(l)\n",
        "\n",
        "    newLearnClause = []\n",
        "    for lit in currentLevelLits.union(prevLevelLits):\n",
        "        newLearnClause.append(lit)\n",
        "\n",
        "    if prevLevelLits:\n",
        "        newLevel = max([adjMatrix[abs(lit)][\"level\"] for lit in prevLevelLits])\n",
        "    else:\n",
        "        newLevel = level - 1\n",
        "\n",
        "    return newLearnClause, newLevel\n"
      ],
      "execution_count": 0,
      "outputs": []
    },
    {
      "cell_type": "markdown",
      "metadata": {
        "id": "2P8XUwCGxrD8",
        "colab_type": "text"
      },
      "source": [
        "This is the main function\n",
        "\n",
        "* First we take the input line by line from file given in argument\n",
        "> * if line is starting with c then ignore comments\n",
        "> * if line start with p then 3 and 4 integer are clause count and literal count\n",
        "> * rest all line are clauses containing 0 at end\n",
        "\n",
        "* set unknown value and NULL node for each literal\n",
        "\n",
        "here is a **optimization**\n",
        " If there only lit in occur in formula and negetion of lit in not ocuring then set lit as **TRUE**\n",
        "\n",
        " * firstly we call BCP for all clauses and then we have 2 possibilities there is any conflict or no more unit literals\n",
        "\n",
        " > * if Conflict occur \n",
        " >>* if current level is 0 then SAT is not possible then return UNSAT\n",
        " >>*  resolve conflit and find new level and new clause\n",
        " >>*  Update Data Str with new clause and backtrack to new level\n",
        ">* if all clause are ture then we get SAT solution\n",
        ">* If we not get any conflict and not all clause true \n",
        ">>* choose an unknown literal by decide function and assign that literal true\n",
        ">>* update data str like add new node in graph and increase level\n",
        "\n",
        "Finally print all data\n",
        "* Time spent\n",
        "* New clause learn\n",
        "* SAT ot UNSAT\n",
        "* Literal Values\n",
        "\n"
      ]
    },
    {
      "cell_type": "code",
      "metadata": {
        "id": "lp7YxHjbOoe-",
        "colab_type": "code",
        "outputId": "49a731b4-6ae0-4cec-fe43-20a38782a04a",
        "colab": {
          "base_uri": "https://localhost:8080/",
          "height": 121
        }
      },
      "source": [
        "if __name__ == \"__main__\":\n",
        "    currentTime = time.time()\n",
        "    Answer = 0\n",
        "    # if len(sys.argv) != 2:\n",
        "    #     sys.exit(\"Invalid Command... please mentioned FileName and InputFilePath\")\n",
        "    InputFilePath = \"input2.cnf\"\n",
        "    inputFile = open(InputFilePath,'r')\n",
        "    inputFileData = inputFile.readlines()\n",
        "\n",
        "    for lines in inputFileData:\n",
        "        currentLine = lines.strip()\n",
        "        if(currentLine[0]=='c'):\n",
        "            continue\n",
        "        elif (currentLine[0]=='p'):\n",
        "            currentLineSplit = currentLine.split()\n",
        "            literalCount = int(currentLineSplit[2])\n",
        "            clauseCount = int(currentLineSplit[3])\n",
        "        else:\n",
        "            currentLineSplit = currentLine.split()\n",
        "            clause=set()\n",
        "            finalClause = []\n",
        "            for lit in currentLineSplit:\n",
        "                intLit = int(lit)\n",
        "                if intLit != 0:\n",
        "                    clause.add(intLit)\n",
        "            \n",
        "            for lit in clause:\n",
        "                if not(-1*lit in clause):\n",
        "                    if lit in LitCalMatrix.keys():\n",
        "                        LitCalMatrix[lit].append(len(formula))\n",
        "                    else:\n",
        "                        LitCalMatrix[lit] = [len(formula)]\n",
        "                    finalClause.append(lit)\n",
        "                    \n",
        "            formula.append(clause)\n",
        "\n",
        "    litValues.append(unknown)\n",
        "    adjMatrix.append({})\n",
        "    for lit in range(1,literalCount+1):\n",
        "        litValues.append(unknown)\n",
        "        adjMatrix.append({})\n",
        "    \n",
        "    for key in LitCalMatrix:\n",
        "        if not(-1*key in LitCalMatrix.keys()):\n",
        "            pstLit = abs(key)\n",
        "            litValues[pstLit] = 1 if key > 0 else 0\n",
        "            adjMatrix[pstLit][\"value\"] = litValues[pstLit]\n",
        "            adjMatrix[pstLit][\"level\"] = level\n",
        "            adjMatrix[pstLit][\"clause\"] = None\n",
        "\n",
        "    NewClauseLearnCount=0\n",
        "    while True:\n",
        "        allClauseSet = list(range(0,len(formula)))\n",
        "        resClauseIdx = BCP(allClauseSet)\n",
        "        if resClauseIdx >-1:\n",
        "            if level==0:\n",
        "                Answer=0\n",
        "                break\n",
        "\n",
        "            newClause,newLevel = ConflictAnalyze(resClauseIdx)\n",
        "            if(newLevel<0):\n",
        "                Answer=0\n",
        "                break\n",
        "            NewClauseLearnCount=NewClauseLearnCount+1\n",
        "\n",
        "            clauseCount = clauseCount+1\n",
        "            for lit in newClause:\n",
        "                LitCalMatrix[lit].append(len(formula))\n",
        "            formula.append(newClause)\n",
        "            UpdateDataStrWithNewLevel(newLevel)\n",
        "            level=newLevel\n",
        "        elif min([ClauseValue(i) for i in range(0,clauseCount) ])==1:\n",
        "            Answer=1\n",
        "            break\n",
        "        else:\n",
        "            Branching()\n",
        "        \n",
        "        \n",
        "    print(\"Time : \", time.time()-currentTime, \" second\")\n",
        "    print(\"Number of Learned Clause: \",NewClauseLearnCount )\n",
        "    print(\"Decision : \", DecisionCount)\n",
        "    print(\"Implication : \", ImplicationCount)\n",
        "    if Answer==1:\n",
        "        for i in range(0,literalCount+1):\n",
        "            if litValues[i]==-1:\n",
        "                litValues[i]=1\n",
        "\n",
        "        print(\"SAT\")\n",
        "        print(str(litValues[1:]))\n",
        "        # outFile = open(\"output.txt\", \"+w\")\n",
        "        # outFile.write(str(litValues[1:]))\n",
        "    else:\n",
        "        print(\"UNSAT\")"
      ],
      "execution_count": 11,
      "outputs": [
        {
          "output_type": "stream",
          "text": [
            "Time :  0.00042891502380371094  second\n",
            "Number of Learned Clause:  0\n",
            "Decision :  7\n",
            "Implication :  2\n",
            "SAT\n",
            "[0, 0, 1, 1, 0, 1, 1, 0, 1, 1, 0, 1, 1, 1, 1, 1]\n"
          ],
          "name": "stdout"
        }
      ]
    }
  ],
  "metadata": {
    "colab": {
      "name": "SatSolver.ipynb",
      "provenance": [],
      "collapsed_sections": []
    },
    "kernelspec": {
      "name": "python3",
      "display_name": "Python 3"
    }
  },
  "nbformat": 4,
  "nbformat_minor": 0
}